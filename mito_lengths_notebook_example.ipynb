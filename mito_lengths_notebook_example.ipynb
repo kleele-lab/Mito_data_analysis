{
 "cells": [
  {
   "cell_type": "code",
   "execution_count": 3,
   "metadata": {},
   "outputs": [
    {
     "name": "stdout",
     "output_type": "stream",
     "text": [
      "label removed 16\n",
      "label removed 32\n",
      "label removed 42\n"
     ]
    },
    {
     "name": "stderr",
     "output_type": "stream",
     "text": [
      "c:\\Users\\kwentinck\\Documents\\Python projects\\Mito_data_analysis\\microscopy_functions.py:65: VisibleDeprecationWarning: separator in column name will change to _ in version 0.13; to silence this warning, use `separator='-'` to maintain current behavior and use `separator='_'` to switch to the new default behavior.\n",
      "  branch_data = skan.summarize(skan.Skeleton(skel,spacing=pix_width))\n"
     ]
    },
    {
     "data": {
      "text/html": [
       "<div>\n",
       "<style scoped>\n",
       "    .dataframe tbody tr th:only-of-type {\n",
       "        vertical-align: middle;\n",
       "    }\n",
       "\n",
       "    .dataframe tbody tr th {\n",
       "        vertical-align: top;\n",
       "    }\n",
       "\n",
       "    .dataframe thead th {\n",
       "        text-align: right;\n",
       "    }\n",
       "</style>\n",
       "<table border=\"1\" class=\"dataframe\">\n",
       "  <thead>\n",
       "    <tr style=\"text-align: right;\">\n",
       "      <th></th>\n",
       "      <th>area</th>\n",
       "      <th>axis_major_length</th>\n",
       "      <th>average_branch_length</th>\n",
       "      <th>max_branch_length</th>\n",
       "      <th>n_branches</th>\n",
       "      <th>total_mito_length</th>\n",
       "    </tr>\n",
       "  </thead>\n",
       "  <tbody>\n",
       "    <tr>\n",
       "      <th>0</th>\n",
       "      <td>0.064800</td>\n",
       "      <td>0.427888</td>\n",
       "      <td>0.280919</td>\n",
       "      <td>0.280919</td>\n",
       "      <td>1</td>\n",
       "      <td>0.280919</td>\n",
       "    </tr>\n",
       "    <tr>\n",
       "      <th>1</th>\n",
       "      <td>0.253125</td>\n",
       "      <td>0.649847</td>\n",
       "      <td>0.325919</td>\n",
       "      <td>0.325919</td>\n",
       "      <td>1</td>\n",
       "      <td>0.325919</td>\n",
       "    </tr>\n",
       "    <tr>\n",
       "      <th>2</th>\n",
       "      <td>3.308850</td>\n",
       "      <td>4.751167</td>\n",
       "      <td>0.390157</td>\n",
       "      <td>2.633711</td>\n",
       "      <td>40</td>\n",
       "      <td>15.606276</td>\n",
       "    </tr>\n",
       "    <tr>\n",
       "      <th>3</th>\n",
       "      <td>0.026325</td>\n",
       "      <td>0.194340</td>\n",
       "      <td>0.045000</td>\n",
       "      <td>0.045000</td>\n",
       "      <td>1</td>\n",
       "      <td>0.045000</td>\n",
       "    </tr>\n",
       "    <tr>\n",
       "      <th>4</th>\n",
       "      <td>0.423225</td>\n",
       "      <td>1.191454</td>\n",
       "      <td>1.330036</td>\n",
       "      <td>1.330036</td>\n",
       "      <td>1</td>\n",
       "      <td>1.330036</td>\n",
       "    </tr>\n",
       "  </tbody>\n",
       "</table>\n",
       "</div>"
      ],
      "text/plain": [
       "       area  axis_major_length  average_branch_length  max_branch_length  \\\n",
       "0  0.064800           0.427888               0.280919           0.280919   \n",
       "1  0.253125           0.649847               0.325919           0.325919   \n",
       "2  3.308850           4.751167               0.390157           2.633711   \n",
       "3  0.026325           0.194340               0.045000           0.045000   \n",
       "4  0.423225           1.191454               1.330036           1.330036   \n",
       "\n",
       "   n_branches  total_mito_length  \n",
       "0           1           0.280919  \n",
       "1           1           0.325919  \n",
       "2          40          15.606276  \n",
       "3           1           0.045000  \n",
       "4           1           1.330036  "
      ]
     },
     "execution_count": 3,
     "metadata": {},
     "output_type": "execute_result"
    }
   ],
   "source": [
    "import h5py as h\n",
    "import pandas as pd\n",
    "import numpy as np\n",
    "\n",
    "from microscopy_functions import calculate_lengths\n",
    "from skimage.io import imread\n",
    "\n",
    "properties = ['area', 'axis_major_length']\n",
    "\n",
    "\n",
    "segmented_img = h.File(r\"\\\\nas22.ethz.ch\\biol_bc_kleele_2\\shared\\00-Lab_members\\Eva\\test\\mito_segmentation\\3 tom_Simple Segmentation.h5\")['exported_data'][:,:,0]\n",
    "# make array with mito = 1 all other = 0 (if mito were labelled as 1 otherwise change)\n",
    "mask = np.array(segmented_img == 1)*1\n",
    "\n",
    "# small_mito = mitos with less pixels are removed\n",
    "# branch_cutoff = mito branches with shorter length than this in um are removed \n",
    "# pix_width = pixel size in um\n",
    "df, labeled_skeleton = calculate_lengths(mask, properties, small_mito=10, branch_cutoff=0.1, pix_width=0.045)\n",
    "df.head()"
   ]
  },
  {
   "cell_type": "code",
   "execution_count": 4,
   "metadata": {},
   "outputs": [
    {
     "data": {
      "text/plain": [
       "<Labels layer 'skeleton' at 0x21a1fa16b10>"
      ]
     },
     "execution_count": 4,
     "metadata": {},
     "output_type": "execute_result"
    }
   ],
   "source": [
    "# check the segmentation in napari\n",
    "import napari \n",
    "\n",
    "original_image = imread(r\"\\\\nas22.ethz.ch\\biol_bc_kleele_2\\shared\\00-Lab_members\\Eva\\test\\mito_segmentation\\3 tom.tif\")\n",
    "\n",
    "viewer = napari.view_image(original_image, blending='additive', name='original')\n",
    "viewer.add_labels(mask, blending='additive', name='segmentation')\n",
    "viewer.add_labels(labeled_skeleton, blending='additive', name='skeleton')\n",
    "\n"
   ]
  }
 ],
 "metadata": {
  "kernelspec": {
   "display_name": "env",
   "language": "python",
   "name": "python3"
  },
  "language_info": {
   "codemirror_mode": {
    "name": "ipython",
    "version": 3
   },
   "file_extension": ".py",
   "mimetype": "text/x-python",
   "name": "python",
   "nbconvert_exporter": "python",
   "pygments_lexer": "ipython3",
   "version": "3.11.9"
  },
  "orig_nbformat": 4
 },
 "nbformat": 4,
 "nbformat_minor": 2
}
