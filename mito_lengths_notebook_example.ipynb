{
 "cells": [
  {
   "cell_type": "code",
   "execution_count": null,
   "metadata": {},
   "outputs": [],
   "source": [
    "import h5py as h\n",
    "import pandas as pd\n",
    "import numpy as np\n",
    "\n",
    "from microscopy_functions import calculate_lengths\n",
    "from skimage.io import imread\n",
    "\n",
    "properties = ['area', 'axis_major_length']\n",
    "\n",
    "\n",
    "segmented_img = h.File(\"test.h5\")['exported_data'][:,:,0]\n",
    "# make array with mito = 1 all other = 0 (if mito were labelled as 1 otherwise change)\n",
    "mask = np.array(segmented_img == 1)*1\n",
    "\n",
    "# small_mito = mitos with less pixels are removed\n",
    "# branch_cutoff = mito branches with shorter length than this in um are removed \n",
    "# pix_width = pixel size in um\n",
    "df, labeled_skeleton = calculate_lengths(mask, properties, small_mito=100, branch_cutoff=0.1, pix_width=0.045)\n",
    "df.head()"
   ]
  },
  {
   "cell_type": "code",
   "execution_count": null,
   "metadata": {},
   "outputs": [],
   "source": [
    "# check the segmentation in napari\n",
    "import napari \n",
    "\n",
    "original_image = imread(\"orig_test.tif\")\n",
    "\n",
    "viewer = napari.view_image(original_image, blending='additive', name='original')\n",
    "viewer.add_labels(mask, blending='additive', name='segmentation')\n",
    "viewer.add_labels(labeled_skeleton, blending='additive', name='skeleton')\n",
    "\n"
   ]
  }
 ],
 "metadata": {
  "language_info": {
   "name": "python"
  },
  "orig_nbformat": 4
 },
 "nbformat": 4,
 "nbformat_minor": 2
}
